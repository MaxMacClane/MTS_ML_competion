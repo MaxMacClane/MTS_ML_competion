{
 "metadata": {
  "kernelspec": {
   "language": "python",
   "display_name": "Python 3",
   "name": "python3"
  },
  "language_info": {
   "pygments_lexer": "ipython3",
   "nbconvert_exporter": "python",
   "version": "3.6.4",
   "file_extension": ".py",
   "codemirror_mode": {
    "name": "ipython",
    "version": 3
   },
   "name": "python",
   "mimetype": "text/x-python"
  }
 },
 "nbformat_minor": 4,
 "nbformat": 4,
 "cells": [
  {
   "cell_type": "markdown",
   "source": [
    "**https://ods.ai/competitions/mtsmlcup**\n",
    "\n",
    "Первое соревнование от МТС Digital Big Data по определению пола/возраста владельца cookie "
   ],
   "metadata": {}
  },
  {
   "cell_type": "code",
   "source": [
    "import sys\n",
    "import os\n",
    "import warnings\n",
    "os.environ['OPENBLAS_NUM_THREADS'] = '1'\n",
    "warnings.filterwarnings('ignore')"
   ],
   "metadata": {
    "execution": {
     "iopub.status.busy": "2023-02-27T12:14:13.908008Z",
     "iopub.execute_input": "2023-02-27T12:14:13.908632Z",
     "iopub.status.idle": "2023-02-27T12:14:13.943086Z",
     "shell.execute_reply.started": "2023-02-27T12:14:13.908510Z",
     "shell.execute_reply": "2023-02-27T12:14:13.941734Z"
    },
    "trusted": true
   },
   "execution_count": null,
   "outputs": []
  },
  {
   "cell_type": "code",
   "source": [
    "import pandas as pd\n",
    "import numpy as np\n",
    "import time\n",
    "import pyarrow.parquet as pq\n",
    "import scipy\n",
    "import implicit\n",
    "import bisect\n",
    "import sklearn.metrics as m\n",
    "from catboost import CatBoostClassifier, CatBoostRegressor, Pool\n",
    "from sklearn.model_selection import train_test_split\n",
    "from sklearn.calibration import calibration_curve, CalibratedClassifierCV"
   ],
   "metadata": {
    "execution": {
     "iopub.status.busy": "2023-02-27T12:14:16.197671Z",
     "iopub.execute_input": "2023-02-27T12:14:16.198418Z",
     "iopub.status.idle": "2023-02-27T12:14:18.115574Z",
     "shell.execute_reply.started": "2023-02-27T12:14:16.198359Z",
     "shell.execute_reply": "2023-02-27T12:14:18.113752Z"
    },
    "trusted": true
   },
   "execution_count": null,
   "outputs": []
  },
  {
   "cell_type": "code",
   "source": [
    "import pyarrow as pa"
   ],
   "metadata": {
    "execution": {
     "iopub.status.busy": "2023-02-27T12:14:21.315118Z",
     "iopub.execute_input": "2023-02-27T12:14:21.315628Z",
     "iopub.status.idle": "2023-02-27T12:14:21.322297Z",
     "shell.execute_reply.started": "2023-02-27T12:14:21.315580Z",
     "shell.execute_reply": "2023-02-27T12:14:21.320726Z"
    },
    "trusted": true
   },
   "execution_count": null,
   "outputs": []
  },
  {
   "cell_type": "code",
   "source": [
    "!pip install feather-format >> none"
   ],
   "metadata": {
    "execution": {
     "iopub.status.busy": "2023-02-27T12:15:17.185942Z",
     "iopub.execute_input": "2023-02-27T12:15:17.186528Z",
     "iopub.status.idle": "2023-02-27T12:15:30.731196Z",
     "shell.execute_reply.started": "2023-02-27T12:15:17.186489Z",
     "shell.execute_reply": "2023-02-27T12:15:30.729561Z"
    },
    "trusted": true
   },
   "execution_count": null,
   "outputs": []
  },
  {
   "cell_type": "code",
   "source": [],
   "metadata": {},
   "execution_count": null,
   "outputs": []
  },
  {
   "cell_type": "code",
   "source": [
    "LOCAL_DATA_PATH = './kaggle/input/mts-ml-cookies'\n",
    "SPLIT_SEED = 42\n",
    "DATA_FILE = 'dataset_full.feather'\n",
    "TARGET_FILE = 'target_train.feather'\n",
    "SUBMISSION_FILE = 'submission.feather'"
   ],
   "metadata": {
    "execution": {
     "iopub.status.busy": "2023-02-27T12:15:38.644073Z",
     "iopub.execute_input": "2023-02-27T12:15:38.645415Z",
     "iopub.status.idle": "2023-02-27T12:15:38.652489Z",
     "shell.execute_reply.started": "2023-02-27T12:15:38.645350Z",
     "shell.execute_reply": "2023-02-27T12:15:38.651213Z"
    },
    "trusted": true
   },
   "execution_count": null,
   "outputs": []
  },
  {
   "cell_type": "code",
   "source": [
    "id_to_submit = pd.read_feather('/kaggle/input/mts-ml-cookies/submission.feather')"
   ],
   "metadata": {
    "execution": {
     "iopub.status.busy": "2023-02-27T12:15:41.936475Z",
     "iopub.execute_input": "2023-02-27T12:15:41.937018Z",
     "iopub.status.idle": "2023-02-27T12:15:42.022947Z",
     "shell.execute_reply.started": "2023-02-27T12:15:41.936971Z",
     "shell.execute_reply": "2023-02-27T12:15:42.021838Z"
    },
    "trusted": true
   },
   "execution_count": null,
   "outputs": []
  },
  {
   "cell_type": "code",
   "source": [
    "data = pd.read_feather('/kaggle/input/mts-ml-cookies/dataset_full.feather')"
   ],
   "metadata": {
    "execution": {
     "iopub.status.busy": "2023-02-27T12:16:17.012411Z",
     "iopub.execute_input": "2023-02-27T12:16:17.012979Z",
     "iopub.status.idle": "2023-02-27T12:16:56.351399Z",
     "shell.execute_reply.started": "2023-02-27T12:16:17.012936Z",
     "shell.execute_reply": "2023-02-27T12:16:56.350118Z"
    },
    "trusted": true
   },
   "execution_count": null,
   "outputs": []
  },
  {
   "cell_type": "code",
   "source": [
    "data = pa.Table.from_pandas(data)"
   ],
   "metadata": {
    "_kg_hide-input": true,
    "_kg_hide-output": false,
    "execution": {
     "iopub.status.busy": "2023-02-27T12:18:52.742714Z",
     "iopub.execute_input": "2023-02-27T12:18:52.743293Z",
     "iopub.status.idle": "2023-02-27T12:18:59.452504Z",
     "shell.execute_reply.started": "2023-02-27T12:18:52.743248Z",
     "shell.execute_reply": "2023-02-27T12:18:59.451080Z"
    },
    "trusted": true
   },
   "execution_count": null,
   "outputs": []
  },
  {
   "cell_type": "code",
   "source": [
    "pd.DataFrame([(z.name, z.type) for z in data.schema], \\\n",
    "             columns = [['field', 'type']])"
   ],
   "metadata": {
    "execution": {
     "iopub.status.busy": "2023-02-27T12:20:08.994511Z",
     "iopub.execute_input": "2023-02-27T12:20:08.995042Z",
     "iopub.status.idle": "2023-02-27T12:20:09.023398Z",
     "shell.execute_reply.started": "2023-02-27T12:20:08.995003Z",
     "shell.execute_reply": "2023-02-27T12:20:09.021974Z"
    },
    "trusted": true
   },
   "execution_count": null,
   "outputs": []
  },
  {
   "cell_type": "markdown",
   "source": [
    "Регион   \n",
    ", населенный пункт   \n",
    ", производиель устройства   \n",
    ", модель устроства   \n",
    ", домен, с которого пришел рекламный запрос   \n",
    ", тип устройства (смартфон или что-то другое)   \n",
    ", операционка на устройстве   \n",
    ", оценка цены устройства   \n",
    ", дата   \n",
    ", время дня (утро, вечер ...)   \n",
    ", число запросов   \n",
    ", id пользователя   "
   ],
   "metadata": {}
  },
  {
   "cell_type": "code",
   "source": [
    "data.select(['cpe_type_cd']).to_pandas()['cpe_type_cd'].value_counts()"
   ],
   "metadata": {
    "execution": {
     "iopub.status.busy": "2023-02-27T12:20:19.883142Z",
     "iopub.execute_input": "2023-02-27T12:20:19.883769Z",
     "iopub.status.idle": "2023-02-27T12:20:23.829448Z",
     "shell.execute_reply.started": "2023-02-27T12:20:19.883718Z",
     "shell.execute_reply": "2023-02-27T12:20:23.828247Z"
    },
    "trusted": true
   },
   "execution_count": null,
   "outputs": []
  },
  {
   "cell_type": "code",
   "source": [
    "targets = pd.read_feather('/kaggle/input/mts-ml-cookies/target_train.feather')"
   ],
   "metadata": {
    "execution": {
     "iopub.status.busy": "2023-02-27T12:20:34.385859Z",
     "iopub.execute_input": "2023-02-27T12:20:34.386424Z",
     "iopub.status.idle": "2023-02-27T12:20:34.471065Z",
     "shell.execute_reply.started": "2023-02-27T12:20:34.386373Z",
     "shell.execute_reply": "2023-02-27T12:20:34.469308Z"
    },
    "trusted": true
   },
   "execution_count": null,
   "outputs": []
  },
  {
   "cell_type": "code",
   "source": [
    "targets = pa.Table.from_pandas(targets)"
   ],
   "metadata": {
    "execution": {
     "iopub.status.busy": "2023-02-27T12:20:39.964882Z",
     "iopub.execute_input": "2023-02-27T12:20:39.965413Z",
     "iopub.status.idle": "2023-02-27T12:20:39.990161Z",
     "shell.execute_reply.started": "2023-02-27T12:20:39.965369Z",
     "shell.execute_reply": "2023-02-27T12:20:39.988757Z"
    },
    "trusted": true
   },
   "execution_count": null,
   "outputs": []
  },
  {
   "cell_type": "code",
   "source": [
    "pd.DataFrame([(z.name, z.type) for z in targets.schema], columns = [['field', 'type']])"
   ],
   "metadata": {
    "execution": {
     "iopub.status.busy": "2023-02-27T12:23:19.259003Z",
     "iopub.execute_input": "2023-02-27T12:23:19.259603Z",
     "iopub.status.idle": "2023-02-27T12:23:19.276465Z",
     "shell.execute_reply.started": "2023-02-27T12:23:19.259552Z",
     "shell.execute_reply": "2023-02-27T12:23:19.275504Z"
    },
    "trusted": true
   },
   "execution_count": null,
   "outputs": []
  },
  {
   "cell_type": "code",
   "source": [
    "%%time\n",
    "data_agg = data.select(['user_id', 'url_host', 'request_cnt']).\\\n",
    "    group_by(['user_id', 'url_host']).aggregate([('request_cnt', \"sum\")])"
   ],
   "metadata": {
    "execution": {
     "iopub.status.busy": "2023-02-27T12:23:33.803605Z",
     "iopub.execute_input": "2023-02-27T12:23:33.804172Z",
     "iopub.status.idle": "2023-02-27T12:23:59.138190Z",
     "shell.execute_reply.started": "2023-02-27T12:23:33.804125Z",
     "shell.execute_reply": "2023-02-27T12:23:59.136797Z"
    },
    "trusted": true
   },
   "execution_count": null,
   "outputs": []
  },
  {
   "cell_type": "code",
   "source": [
    "url_set = set(data_agg.select(['url_host']).to_pandas()['url_host'])\n",
    "print(f'{len(url_set)} urls')\n",
    "url_dict = {url: idurl for url, idurl in zip(url_set, range(len(url_set)))}\n",
    "usr_set = set(data_agg.select(['user_id']).to_pandas()['user_id'])\n",
    "print(f'{len(usr_set)} users')\n",
    "usr_dict = {usr: user_id for usr, user_id in zip(usr_set, range(len(usr_set)))}"
   ],
   "metadata": {
    "execution": {
     "iopub.status.busy": "2023-02-27T12:24:41.601432Z",
     "iopub.execute_input": "2023-02-27T12:24:41.602707Z",
     "iopub.status.idle": "2023-02-27T12:24:49.785381Z",
     "shell.execute_reply.started": "2023-02-27T12:24:41.602625Z",
     "shell.execute_reply": "2023-02-27T12:24:49.783834Z"
    },
    "trusted": true
   },
   "execution_count": null,
   "outputs": []
  },
  {
   "cell_type": "code",
   "source": [
    "!pip install faiss-cpu --no-cache"
   ],
   "metadata": {
    "execution": {
     "iopub.status.busy": "2023-02-27T12:25:20.543263Z",
     "iopub.execute_input": "2023-02-27T12:25:20.543761Z",
     "iopub.status.idle": "2023-02-27T12:25:36.418762Z",
     "shell.execute_reply.started": "2023-02-27T12:25:20.543724Z",
     "shell.execute_reply": "2023-02-27T12:25:36.416828Z"
    },
    "trusted": true
   },
   "execution_count": null,
   "outputs": []
  },
  {
   "cell_type": "code",
   "source": [
    "!pip install implicit"
   ],
   "metadata": {
    "execution": {
     "iopub.status.busy": "2023-02-27T12:25:38.219801Z",
     "iopub.execute_input": "2023-02-27T12:25:38.221060Z",
     "iopub.status.idle": "2023-02-27T12:25:49.757649Z",
     "shell.execute_reply.started": "2023-02-27T12:25:38.221001Z",
     "shell.execute_reply": "2023-02-27T12:25:49.756122Z"
    },
    "trusted": true
   },
   "execution_count": null,
   "outputs": []
  },
  {
   "cell_type": "code",
   "source": [
    "%%time\n",
    "values = np.array(data_agg.select(['request_cnt_sum']).to_pandas()['request_cnt_sum'])\n",
    "rows = np.array(data_agg.select(['user_id']).to_pandas()['user_id'].map(usr_dict))\n",
    "cols = np.array(data_agg.select(['url_host']).to_pandas()['url_host'].map(url_dict))\n",
    "mat = scipy.sparse.coo_matrix((values, (rows, cols)), shape=(rows.max() + 1, cols.max() + 1))\n",
    "als = implicit.approximate_als.FaissAlternatingLeastSquares(factors = 50, iterations = 30, use_gpu = False, \\\n",
    "       calculate_training_loss = False, regularization = 0.1)"
   ],
   "metadata": {
    "execution": {
     "iopub.status.busy": "2023-02-27T12:26:17.154620Z",
     "iopub.execute_input": "2023-02-27T12:26:17.155109Z",
     "iopub.status.idle": "2023-02-27T12:26:20.281962Z",
     "shell.execute_reply.started": "2023-02-27T12:26:17.155067Z",
     "shell.execute_reply": "2023-02-27T12:26:20.280604Z"
    },
    "trusted": true
   },
   "execution_count": null,
   "outputs": []
  },
  {
   "cell_type": "code",
   "source": [
    "%%time\n",
    "als.fit(mat)"
   ],
   "metadata": {
    "execution": {
     "iopub.status.busy": "2023-02-27T12:27:03.312074Z",
     "iopub.execute_input": "2023-02-27T12:27:03.313836Z",
     "iopub.status.idle": "2023-02-27T12:33:00.866273Z",
     "shell.execute_reply.started": "2023-02-27T12:27:03.313748Z",
     "shell.execute_reply": "2023-02-27T12:33:00.864860Z"
    },
    "trusted": true
   },
   "execution_count": null,
   "outputs": []
  },
  {
   "cell_type": "code",
   "source": [
    "u_factors = als.user_factors \n",
    "d_factors = als.item_factors"
   ],
   "metadata": {
    "execution": {
     "iopub.status.busy": "2023-02-27T12:35:02.859294Z",
     "iopub.execute_input": "2023-02-27T12:35:02.859972Z",
     "iopub.status.idle": "2023-02-27T12:35:02.869072Z",
     "shell.execute_reply.started": "2023-02-27T12:35:02.859918Z",
     "shell.execute_reply": "2023-02-27T12:35:02.867016Z"
    },
    "trusted": true
   },
   "execution_count": null,
   "outputs": []
  },
  {
   "cell_type": "markdown",
   "source": [
    "## Получим оценку по полу"
   ],
   "metadata": {}
  },
  {
   "cell_type": "code",
   "source": [
    "id_to_submit = pd.read_feather('/kaggle/input/mts-ml-cookies/submission.feather')"
   ],
   "metadata": {
    "execution": {
     "iopub.status.busy": "2023-02-27T12:35:07.089135Z",
     "iopub.execute_input": "2023-02-27T12:35:07.089710Z",
     "iopub.status.idle": "2023-02-27T12:35:07.119678Z",
     "shell.execute_reply.started": "2023-02-27T12:35:07.089652Z",
     "shell.execute_reply": "2023-02-27T12:35:07.118386Z"
    },
    "trusted": true
   },
   "execution_count": null,
   "outputs": []
  },
  {
   "cell_type": "code",
   "source": [
    "%%time\n",
    "inv_usr_map = {v: k for k, v in usr_dict.items()}\n",
    "usr_emb = pd.DataFrame(d_factors)\n",
    "usr_emb['user_id'] = usr_emb.index.map(inv_usr_map)\n",
    "usr_targets = targets.to_pandas()\n",
    "df = usr_targets.merge(usr_emb, how = 'inner', on = ['user_id'])\n",
    "df = df[df['is_male'] != 'NA']\n",
    "df = df.dropna()\n",
    "df['is_male'] = df['is_male'].map(int)\n",
    "df['is_male'].value_counts()"
   ],
   "metadata": {
    "scrolled": true,
    "execution": {
     "iopub.status.busy": "2023-02-27T12:36:55.641117Z",
     "iopub.execute_input": "2023-02-27T12:36:55.641833Z",
     "iopub.status.idle": "2023-02-27T12:36:57.277598Z",
     "shell.execute_reply.started": "2023-02-27T12:36:55.641775Z",
     "shell.execute_reply": "2023-02-27T12:36:57.276185Z"
    },
    "trusted": true
   },
   "execution_count": null,
   "outputs": []
  },
  {
   "cell_type": "code",
   "source": [
    "%%time\n",
    "x_train, x_test, y_train, y_test = train_test_split(\\\n",
    "    df.drop(['user_id', 'age', 'is_male'], axis = 1), df['is_male'], test_size = 0.33, random_state = SPLIT_SEED)\n",
    "clf = CatBoostClassifier()\n",
    "clf.fit(x_train, y_train, verbose = False)\n",
    "print(f'GINI по полу {2 * m.roc_auc_score(y_test, clf.predict_proba(x_test)[:,1]) - 1:2.3f}')"
   ],
   "metadata": {
    "execution": {
     "iopub.status.busy": "2023-02-27T12:37:17.051923Z",
     "iopub.execute_input": "2023-02-27T12:37:17.053513Z",
     "iopub.status.idle": "2023-02-27T12:38:09.202715Z",
     "shell.execute_reply.started": "2023-02-27T12:37:17.053436Z",
     "shell.execute_reply": "2023-02-27T12:38:09.200899Z"
    },
    "trusted": true
   },
   "execution_count": null,
   "outputs": []
  },
  {
   "cell_type": "code",
   "source": [
    "id_to_submit.info()"
   ],
   "metadata": {
    "execution": {
     "iopub.status.busy": "2023-02-27T12:38:14.503405Z",
     "iopub.execute_input": "2023-02-27T12:38:14.503956Z",
     "iopub.status.idle": "2023-02-27T12:38:14.530788Z",
     "shell.execute_reply.started": "2023-02-27T12:38:14.503911Z",
     "shell.execute_reply": "2023-02-27T12:38:14.529497Z"
    },
    "trusted": true
   },
   "execution_count": null,
   "outputs": []
  },
  {
   "cell_type": "code",
   "source": [
    "clf.fit(df.drop(['user_id', 'age', 'is_male'], axis = 1), df['is_male'], verbose = False)"
   ],
   "metadata": {
    "execution": {
     "iopub.status.busy": "2023-02-27T12:38:36.689174Z",
     "iopub.execute_input": "2023-02-27T12:38:36.689754Z",
     "iopub.status.idle": "2023-02-27T12:39:47.651861Z",
     "shell.execute_reply.started": "2023-02-27T12:38:36.689704Z",
     "shell.execute_reply": "2023-02-27T12:39:47.650395Z"
    },
    "trusted": true
   },
   "execution_count": null,
   "outputs": []
  },
  {
   "cell_type": "code",
   "source": [
    "id_to_submit['user_id'].unique"
   ],
   "metadata": {
    "execution": {
     "iopub.status.busy": "2023-02-27T12:44:41.460791Z",
     "iopub.execute_input": "2023-02-27T12:44:41.461375Z",
     "iopub.status.idle": "2023-02-27T12:44:41.473949Z",
     "shell.execute_reply.started": "2023-02-27T12:44:41.461330Z",
     "shell.execute_reply": "2023-02-27T12:44:41.472467Z"
    },
    "trusted": true
   },
   "execution_count": null,
   "outputs": []
  },
  {
   "cell_type": "code",
   "source": [
    "# id_to_submit['is_male'] = clf.predict(id_to_submit.merge(usr_emb, how = 'inner', on = ['user_id']))[:,1]"
   ],
   "metadata": {
    "execution": {
     "iopub.status.busy": "2023-02-05T12:57:46.384958Z",
     "iopub.execute_input": "2023-02-05T12:57:46.385288Z",
     "iopub.status.idle": "2023-02-05T12:57:46.393197Z",
     "shell.execute_reply.started": "2023-02-05T12:57:46.385262Z",
     "shell.execute_reply": "2023-02-05T12:57:46.391625Z"
    },
    "trusted": true
   },
   "execution_count": null,
   "outputs": []
  },
  {
   "cell_type": "code",
   "source": [
    "len(clf.predict_proba(id_to_submit.merge(usr_emb, how = 'left', on = ['user_id']))[:,1])"
   ],
   "metadata": {
    "execution": {
     "iopub.status.busy": "2023-02-27T12:45:00.652687Z",
     "iopub.execute_input": "2023-02-27T12:45:00.653258Z",
     "iopub.status.idle": "2023-02-27T12:45:01.352486Z",
     "shell.execute_reply.started": "2023-02-27T12:45:00.653214Z",
     "shell.execute_reply": "2023-02-27T12:45:01.351211Z"
    },
    "trusted": true
   },
   "execution_count": null,
   "outputs": []
  },
  {
   "cell_type": "code",
   "source": [
    "id_to_submit['is_male'] = clf.predict_proba(id_to_submit.merge(usr_emb, how = 'left', on = ['user_id']))[:,1]"
   ],
   "metadata": {
    "execution": {
     "iopub.status.busy": "2023-02-27T12:45:09.594991Z",
     "iopub.execute_input": "2023-02-27T12:45:09.595518Z",
     "iopub.status.idle": "2023-02-27T12:45:10.140535Z",
     "shell.execute_reply.started": "2023-02-27T12:45:09.595472Z",
     "shell.execute_reply": "2023-02-27T12:45:10.139096Z"
    },
    "trusted": true
   },
   "execution_count": null,
   "outputs": []
  },
  {
   "cell_type": "code",
   "source": [
    "id_to_submit"
   ],
   "metadata": {
    "execution": {
     "iopub.status.busy": "2023-02-27T12:45:17.724980Z",
     "iopub.execute_input": "2023-02-27T12:45:17.725445Z",
     "iopub.status.idle": "2023-02-27T12:45:17.744319Z",
     "shell.execute_reply.started": "2023-02-27T12:45:17.725406Z",
     "shell.execute_reply": "2023-02-27T12:45:17.742725Z"
    },
    "trusted": true
   },
   "execution_count": null,
   "outputs": []
  },
  {
   "cell_type": "code",
   "source": [
    "# clf.fit(df.drop(['user_id', 'age', 'is_male'], axis = 1), df['is_male'], verbose = False)\n",
    "# id_to_submit['is_male'] = clf.predict_proba(id_to_submit.merge(usr_emb, how = 'inner', on = ['user_id']))[:,1]"
   ],
   "metadata": {
    "execution": {
     "iopub.status.busy": "2023-02-05T12:57:47.261394Z",
     "iopub.execute_input": "2023-02-05T12:57:47.261747Z",
     "iopub.status.idle": "2023-02-05T12:57:47.269092Z",
     "shell.execute_reply.started": "2023-02-05T12:57:47.261722Z",
     "shell.execute_reply": "2023-02-05T12:57:47.267379Z"
    },
    "trusted": true
   },
   "execution_count": null,
   "outputs": []
  },
  {
   "cell_type": "markdown",
   "source": [
    "## Получим оценку по возрасту"
   ],
   "metadata": {}
  },
  {
   "cell_type": "code",
   "source": [
    "import seaborn as sns\n",
    "import matplotlib.pyplot as plt\n",
    "import plotly.express as px\n",
    "\n",
    "%matplotlib inline\n",
    "sns.set_style('darkgrid')"
   ],
   "metadata": {
    "execution": {
     "iopub.status.busy": "2023-02-27T12:45:36.134411Z",
     "iopub.execute_input": "2023-02-27T12:45:36.134966Z",
     "iopub.status.idle": "2023-02-27T12:45:37.782452Z",
     "shell.execute_reply.started": "2023-02-27T12:45:36.134916Z",
     "shell.execute_reply": "2023-02-27T12:45:37.781052Z"
    },
    "trusted": true
   },
   "execution_count": null,
   "outputs": []
  },
  {
   "cell_type": "code",
   "source": [
    "def age_bucket(x):\n",
    "    return bisect.bisect_left([18,25,35,45,55,65], x)"
   ],
   "metadata": {
    "execution": {
     "iopub.status.busy": "2023-02-27T12:45:49.179318Z",
     "iopub.execute_input": "2023-02-27T12:45:49.180015Z",
     "iopub.status.idle": "2023-02-27T12:45:49.186792Z",
     "shell.execute_reply.started": "2023-02-27T12:45:49.179960Z",
     "shell.execute_reply": "2023-02-27T12:45:49.185445Z"
    },
    "trusted": true
   },
   "execution_count": null,
   "outputs": []
  },
  {
   "cell_type": "code",
   "source": [
    "inv_usr_map = {v: k for k, v in usr_dict.items()}\n",
    "usr_emb = pd.DataFrame(d_factors)\n",
    "usr_emb['user_id'] = usr_emb.index.map(inv_usr_map)\n",
    "usr_targets = targets.to_pandas()\n",
    "df = usr_targets.merge(usr_emb, how = 'inner', on = ['user_id'])\n",
    "df = df[df['age'] != 'NA']\n",
    "df = df.dropna()\n",
    "df['age'] = df['age'].map(age_bucket)\n",
    "sns.histplot(df['age'], bins = 7)"
   ],
   "metadata": {
    "execution": {
     "iopub.status.busy": "2023-02-27T12:45:52.587807Z",
     "iopub.execute_input": "2023-02-27T12:45:52.588246Z",
     "iopub.status.idle": "2023-02-27T12:45:54.578344Z",
     "shell.execute_reply.started": "2023-02-27T12:45:52.588210Z",
     "shell.execute_reply": "2023-02-27T12:45:54.577084Z"
    },
    "trusted": true
   },
   "execution_count": null,
   "outputs": []
  },
  {
   "cell_type": "code",
   "source": [
    "x_train, x_test, y_train, y_test = train_test_split(\\\n",
    "    df.drop(['user_id', 'age', 'is_male'], axis = 1), df['age'], test_size = 0.33, random_state = SPLIT_SEED)\n",
    "\n",
    "clf = CatBoostClassifier()\n",
    "clf.fit(x_train, y_train, verbose = False)\n",
    "print(m.classification_report(y_test, clf.predict(x_test), \\\n",
    "                            target_names = ['<18', '18-25','25-34', '35-44', '45-54', '55-65', '65+']))"
   ],
   "metadata": {
    "execution": {
     "iopub.status.busy": "2023-02-27T12:46:03.874034Z",
     "iopub.execute_input": "2023-02-27T12:46:03.874578Z",
     "iopub.status.idle": "2023-02-27T12:50:19.954384Z",
     "shell.execute_reply.started": "2023-02-27T12:46:03.874528Z",
     "shell.execute_reply": "2023-02-27T12:50:19.950994Z"
    },
    "trusted": true
   },
   "execution_count": null,
   "outputs": []
  },
  {
   "cell_type": "code",
   "source": [
    "clf.fit(df.drop(['user_id', 'age', 'is_male'], axis = 1), df['age'], verbose = False)"
   ],
   "metadata": {
    "execution": {
     "iopub.status.busy": "2023-02-27T12:51:13.278157Z",
     "iopub.execute_input": "2023-02-27T12:51:13.279023Z",
     "iopub.status.idle": "2023-02-27T12:57:13.501890Z",
     "shell.execute_reply.started": "2023-02-27T12:51:13.278972Z",
     "shell.execute_reply": "2023-02-27T12:57:13.500699Z"
    },
    "trusted": true
   },
   "execution_count": null,
   "outputs": []
  },
  {
   "cell_type": "code",
   "source": [
    "id_to_submit['age'] = clf.predict(id_to_submit[['user_id']].merge(usr_emb, how = 'left', on = ['user_id']))"
   ],
   "metadata": {
    "execution": {
     "iopub.status.busy": "2023-02-27T12:58:02.219236Z",
     "iopub.execute_input": "2023-02-27T12:58:02.219731Z",
     "iopub.status.idle": "2023-02-27T12:58:03.224368Z",
     "shell.execute_reply.started": "2023-02-27T12:58:02.219688Z",
     "shell.execute_reply": "2023-02-27T12:58:03.223113Z"
    },
    "trusted": true
   },
   "execution_count": null,
   "outputs": []
  },
  {
   "cell_type": "code",
   "source": [
    "# clf.fit(df.drop(['user_id', 'age', 'is_male'], axis = 1), df['age'], verbose = False)\n",
    "# id_to_submit['age'] = clf.predict(id_to_submit[['user_id']].merge(usr_emb, how = 'inner', on = ['user_id']))"
   ],
   "metadata": {
    "execution": {
     "iopub.status.busy": "2023-02-27T12:58:09.312743Z",
     "iopub.execute_input": "2023-02-27T12:58:09.313267Z",
     "iopub.status.idle": "2023-02-27T12:58:09.318976Z",
     "shell.execute_reply.started": "2023-02-27T12:58:09.313221Z",
     "shell.execute_reply": "2023-02-27T12:58:09.317616Z"
    },
    "trusted": true
   },
   "execution_count": null,
   "outputs": []
  },
  {
   "cell_type": "code",
   "source": [
    "id_to_submit"
   ],
   "metadata": {
    "execution": {
     "iopub.status.busy": "2023-02-27T12:58:09.971997Z",
     "iopub.execute_input": "2023-02-27T12:58:09.973574Z",
     "iopub.status.idle": "2023-02-27T12:58:09.989344Z",
     "shell.execute_reply.started": "2023-02-27T12:58:09.973521Z",
     "shell.execute_reply": "2023-02-27T12:58:09.988026Z"
    },
    "trusted": true
   },
   "execution_count": null,
   "outputs": []
  },
  {
   "cell_type": "markdown",
   "source": [
    "## Сабмит"
   ],
   "metadata": {}
  },
  {
   "cell_type": "code",
   "source": [
    "id_to_submit"
   ],
   "metadata": {
    "execution": {
     "iopub.status.busy": "2023-02-27T12:58:57.265617Z",
     "iopub.execute_input": "2023-02-27T12:58:57.266194Z",
     "iopub.status.idle": "2023-02-27T12:58:57.283186Z",
     "shell.execute_reply.started": "2023-02-27T12:58:57.266138Z",
     "shell.execute_reply": "2023-02-27T12:58:57.281953Z"
    },
    "trusted": true
   },
   "execution_count": null,
   "outputs": []
  },
  {
   "cell_type": "code",
   "source": [
    "id_to_submit.is_male.value_counts()"
   ],
   "metadata": {
    "execution": {
     "iopub.status.busy": "2023-02-27T12:59:04.373272Z",
     "iopub.execute_input": "2023-02-27T12:59:04.373820Z",
     "iopub.status.idle": "2023-02-27T12:59:04.439710Z",
     "shell.execute_reply.started": "2023-02-27T12:59:04.373771Z",
     "shell.execute_reply": "2023-02-27T12:59:04.438281Z"
    },
    "trusted": true
   },
   "execution_count": null,
   "outputs": []
  },
  {
   "cell_type": "code",
   "source": [
    "id_to_submit.age.value_counts()"
   ],
   "metadata": {
    "execution": {
     "iopub.status.busy": "2023-02-27T12:59:10.890476Z",
     "iopub.execute_input": "2023-02-27T12:59:10.890923Z",
     "iopub.status.idle": "2023-02-27T12:59:10.903585Z",
     "shell.execute_reply.started": "2023-02-27T12:59:10.890883Z",
     "shell.execute_reply": "2023-02-27T12:59:10.902110Z"
    },
    "trusted": true
   },
   "execution_count": null,
   "outputs": []
  },
  {
   "cell_type": "code",
   "source": [
    "id_to_submit.to_csv('submit.csv', index = False)"
   ],
   "metadata": {
    "execution": {
     "iopub.status.busy": "2023-02-27T12:59:48.042625Z",
     "iopub.execute_input": "2023-02-27T12:59:48.043149Z",
     "iopub.status.idle": "2023-02-27T12:59:48.422087Z",
     "shell.execute_reply.started": "2023-02-27T12:59:48.043110Z",
     "shell.execute_reply": "2023-02-27T12:59:48.420547Z"
    },
    "trusted": true
   },
   "execution_count": null,
   "outputs": []
  },
  {
   "cell_type": "markdown",
   "source": [
    "**Score 1,4838209099\t\t**"
   ],
   "metadata": {}
  },
  {
   "cell_type": "code",
   "source": [],
   "metadata": {},
   "execution_count": null,
   "outputs": []
  }
 ]
}
